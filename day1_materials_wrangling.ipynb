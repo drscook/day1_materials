{
  "cells": [
    {
      "cell_type": "markdown",
      "metadata": {
        "id": "view-in-github",
        "colab_type": "text"
      },
      "source": [
        "<a href=\"https://colab.research.google.com/github/drscook/day1_materials/blob/main/day1_materials_wrangling.ipynb\" target=\"_parent\"><img src=\"https://colab.research.google.com/assets/colab-badge.svg\" alt=\"Open In Colab\"/></a>"
      ]
    },
    {
      "cell_type": "code",
      "source": [
        "# run once to update packages\n",
        "import google\n",
        "! pip install -U ipython-autotime numpy pandas matplotlib plotly_express\n",
        "google.colab.output.clear() # clear messy output from update process\n",
        "get_ipython().kernel.do_shutdown(True) # restart runtime so updates take effect - ignore \"session crashed\" pop-up"
      ],
      "metadata": {
        "colab": {
          "base_uri": "https://localhost:8080/"
        },
        "id": "sLjPjWrTnrdx",
        "outputId": "3826f031-b0f2-40b8-dce8-3322236b2039"
      },
      "execution_count": null,
      "outputs": [
        {
          "output_type": "execute_result",
          "data": {
            "text/plain": [
              "{'status': 'ok', 'restart': True}"
            ]
          },
          "metadata": {},
          "execution_count": 31
        }
      ]
    },
    {
      "cell_type": "code",
      "source": [
        "import warnings, numpy as np, pandas as pd\n",
        "from IPython.core.display import HTML\n",
        "\n",
        "### helper functions ###\n",
        "def to_numeric(df):\n",
        "    with warnings.catch_warnings():\n",
        "        warnings.simplefilter(action='ignore', category=(FutureWarning,UserWarning))\n",
        "        def func(ser):\n",
        "            dt = str(ser.dtype).lower()\n",
        "            if 'geometry' not in dt and 'bool' not in dt and 'category' not in dt:\n",
        "                ser = pd.to_numeric(ser.astype('string').str.lower().str.strip().replace('',pd.NA), downcast='integer', errors='ignore')\n",
        "                if pd.api.types.is_string_dtype(ser):\n",
        "                    ser = pd.to_datetime(ser, errors='ignore')\n",
        "                elif pd.api.types.is_integer_dtype(ser):\n",
        "                    ser = ser.astype('Int64', errors='ignore')\n",
        "            return ser\n",
        "        return pd.DataFrame(df).apply(func).convert_dtypes()\n",
        "\n",
        "def prep(df):\n",
        "    rename_column = lambda x: x.lower().replace(' ','_').replace('-','_') if isinstance(x, str) else x\n",
        "    df = pd.DataFrame(df).rename(columns=rename_column).rename_axis(index=rename_column)\n",
        "    idx = pd.MultiIndex.from_frame(df[[]].reset_index().to_numeric())\n",
        "    return df.to_numeric().set_index(idx).rename_axis(df.index.names)\n",
        "\n",
        "def disp(df, max_rows=4, max_cols=200, **kwargs):\n",
        "    display(HTML(pd.DataFrame(df).to_html(max_rows=max_rows, max_cols=max_cols, **kwargs)))\n",
        "\n",
        "for func in [to_numeric, prep, disp]:\n",
        "    for cls in [pd.DataFrame, pd.Series]:\n",
        "        setattr(cls, func.__name__, func)\n",
        "\n",
        "### start ###\n",
        "raw = pd.read_csv('https://raw.githubusercontent.com/drscook/day1_materials/main/data/day1_materials_raw.csv')\n",
        "raw = raw.rename(columns=raw.iloc[0]).iloc[2:]\n",
        "col_rename = {\n",
        "    'response_id': 'id',\n",
        "    'recorded_date': 'date',\n",
        "    'duration_(in_seconds)': 'duration',\n",
        "    'progress': 'progress',\n",
        "    'your_classification': 'class',\n",
        "    'primary_location': 'campus',\n",
        "    'do_you_have_internet_access_at_home_that_is_stable_and_fast_enough_to_effectively_use_online_course_materials?': 'internet',\n",
        "    'on_the_first_class_day,_did_you_have_all_required_materials_for_all_your_courses?': 'first',\n",
        "    'today,_do_you_have_all_required_materials_for_all_your_courses?': 'today',\n",
        "    'if_not,_why?_(check_all_that_apply_or_skip_if_you_answered_yes_above)___selected_choice': 'why',\n",
        "    'which_of_these_do_you_own_and_use_for_classes_(check_all_that_apply)?': 'electronics',\n",
        "    'where_did_you_get_your_course_materials_(check_all_that_apply)?___selected_choice': 'sources',\n",
        "    'how_much_did_you_spend_on_required_materials?___$': 'spend',\n",
        "    'how_many_of_your_courses_require_materials_that_you_pay_for_(textbooks,_equipment,_online_services,_software,_etc)?': 'num_crse_reported_pay',\n",
        "    'how_many_courses_are_you_taking?': 'num_crse_reported',\n",
        "    }\n",
        "R = raw.prep().rename(columns=col_rename).set_index('id').sort_index()\n",
        "A = R.filter(col_rename.values())\n",
        "\n",
        "C = R.filter(regex='[0-9]__')\n",
        "crse_cols = ['subj', 'numb', 'require', 'first', 'today', 'use']\n",
        "L = len(crse_cols)\n",
        "K = len(C.columns) // L\n",
        "C.columns = crse_cols * K\n",
        "\n",
        "F = pd.read_csv('https://raw.githubusercontent.com/drscook/day1_materials/main/data/course_fix.csv')\n",
        "C = (\n",
        "    pd.concat([C.iloc[:,i*L:(i+1)*L] for i in range(K)])\n",
        "    .dropna(how='all')\n",
        "    .reset_index()\n",
        "    .merge(F[['subj', 'numb', 'numb new']], how='left')\n",
        "    .assign(numb = lambda x: x['numb new'])\n",
        "    .drop(columns='numb new')\n",
        "    .prep()\n",
        "    .set_index('id')\n",
        "    .sort_index()\n",
        ")\n",
        "\n",
        "repl = {\n",
        "    'require': {\n",
        "        'no required materials': '0_no_required',\n",
        "        'required materials are all free': '1_free_required',\n",
        "        'yes': '2_yes_required'\n",
        "        },\n",
        "    'first': {\n",
        "        'none': '0_none_first',\n",
        "        'some but not all': '1_some_first',\n",
        "        'most but not all': '2_most_first',\n",
        "        'yes': '3_all_first',\n",
        "        'i had no materials': '0_none_first',\n",
        "        'i had some but not all materials': '1_some_first',\n",
        "        'i had most but not all materials': '2_most_first',\n",
        "        'i had all material': '3_all_first'},\n",
        "    'today': {\n",
        "        'none': '0_none_today',\n",
        "        'some but not all': '1_some_today',\n",
        "        'most but not all': '2_most_today',\n",
        "        'yes': '3_all_today',\n",
        "        'i had no materials': '0_none_today',\n",
        "        'i had some but not all materials': '1_some_today',\n",
        "        'i had most but not all materials': '2_most_today',\n",
        "        'i had all material': '3_all_today'},\n",
        "    'campus':{\n",
        "        'stephenville':'steph',\n",
        "        'fort worth':'ftw',\n",
        "        'online/distance learner':'dist',\n",
        "    },\n",
        "    'class': {\n",
        "        'high school':'0_hs',\n",
        "        'other': '0_other',\n",
        "        'freshman': '1_fr',\n",
        "        'sophomore': '2_so',\n",
        "        'junior': '3_jr',\n",
        "        'senior': '4_sr',\n",
        "        'graduate': '5_gr',\n",
        "    },\n",
        "    'internet': {\n",
        "        'no': '0_no_internet',\n",
        "        'yes': '1_yes_internet',\n",
        "    },\n",
        "    'use': {\n",
        "        'never': '0_never_use',\n",
        "        'occasionally': '1_occasionally_use',\n",
        "        'often': '2_often_use',\n",
        "    },\n",
        "}\n",
        "\n",
        "\n",
        "for k, v in repl.items():\n",
        "    if k in A:\n",
        "        A[k] = A[k].replace(v)\n",
        "    if k in C:\n",
        "        C[k] = C[k].replace(v)\n",
        "\n",
        "A['num_crse_details_pay'] = C.query('require==100').groupby('id').size()\n",
        "A['num_crse_details'] = C.groupby('id').size()\n",
        "A['num_crse_pay'] = A[['num_crse_reported_pay', 'num_crse_details_pay']].max(axis=1)\n",
        "A['num_crse'] = A[['num_crse_reported', 'num_crse_details', 'num_crse_pay']].max(axis=1)\n",
        "A['spend_per_crse_pay'] = (A['spend'] / A['num_crse_pay']).clip(0, 500)\n",
        "A['spend_per_crse'] = (A['spend'] / A['num_crse']).clip(0, 500)\n",
        "A['pct_crse_pay'] = A['num_crse_pay'] / A['num_crse'] * 100\n",
        "labeler = lambda s: pd.get_dummies(s.str.split(',').explode(), prefix=s.name).groupby('id').sum().astype('boolean')\n",
        "cs = ['campus','electronics','sources','why']\n",
        "B = pd.concat([labeler(A[k]) for k in cs], axis=1)\n",
        "cs.remove('campus')\n",
        "A = A.join(B, how='outer').drop(columns=cs).round().prep().sort_index()\n",
        "C = C.join(A, lsuffix='_crse').prep().sort_index()\n",
        "\n",
        "A.to_csv('students.csv')\n",
        "C.to_csv('courses.csv')\n",
        "with pd.ExcelWriter('processed.xlsx') as writer:\n",
        "    raw.to_excel(writer, sheet_name='raw')\n",
        "    A.to_excel(writer, sheet_name='students')\n",
        "    C.to_excel(writer, sheet_name='courses')\n",
        "    F.to_excel(writer, sheet_name='courses_fix')"
      ],
      "metadata": {
        "id": "Ic6xLLW_LmnJ",
        "colab": {
          "base_uri": "https://localhost:8080/"
        },
        "outputId": "91efd244-184e-4c71-b605-c8b351abf758"
      },
      "execution_count": 2,
      "outputs": [
        {
          "output_type": "stream",
          "name": "stderr",
          "text": [
            "<ipython-input-2-6586ead6601c>:130: RuntimeWarning: Engine has switched to 'python' because numexpr does not support extension array dtypes. Please set your engine to python manually.\n",
            "  A['num_crse_details_pay'] = C.query('require==100').groupby('id').size()\n"
          ]
        }
      ]
    }
  ],
  "metadata": {
    "kernelspec": {
      "display_name": "Python 3",
      "name": "python3"
    },
    "language_info": {
      "name": "python"
    },
    "colab": {
      "provenance": [],
      "include_colab_link": true
    }
  },
  "nbformat": 4,
  "nbformat_minor": 0
}